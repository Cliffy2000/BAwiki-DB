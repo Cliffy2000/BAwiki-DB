{
 "cells": [
  {
   "cell_type": "code",
   "execution_count": 1,
   "id": "621d821e",
   "metadata": {},
   "outputs": [],
   "source": [
    "import os\n",
    "import json"
   ]
  },
  {
   "cell_type": "code",
   "execution_count": 49,
   "id": "8d1e334d",
   "metadata": {},
   "outputs": [],
   "source": [
    "with open('../SchaleDB/data/en/students.json', 'r', encoding='utf-8') as f2:\n",
    "    enData = json.load(f2)\n",
    "f2.close()\n"
   ]
  },
  {
   "cell_type": "code",
   "execution_count": 50,
   "id": "10e6367b",
   "metadata": {},
   "outputs": [],
   "source": [
    "prevPath = \"../SchaleDB/images/skill/\"\n",
    "newPath = \"./images/icons/skills/\""
   ]
  },
  {
   "cell_type": "code",
   "execution_count": 51,
   "id": "3b6a56c4",
   "metadata": {},
   "outputs": [],
   "source": [
    "skillCounter = 0\n",
    "\n",
    "color = {\n",
    "    \"Explosion\": \"Red\",\n",
    "    \"Pierce\": \"Yellow\",\n",
    "    \"Mystic\": \"Blue\"\n",
    "}\n",
    "allSkills = [s[\"Icon\"] if \"Icon\" in s.keys() else None for student in enData for s in student[\"Skills\"]]\n",
    "\n",
    "for item in os.listdir(prevPath):\n",
    "    if item.endswith(\".png\"):\n",
    "        img = item[:-4]\n",
    "\n",
    "        if img in allSkills:\n",
    "            skillCounter += 1\n",
    "            os.rename(f'{prevPath}{img}.png', f'{newPath}skill{skillCounter}.png')\n",
    "            for student in enData:\n",
    "                for s in student[\"Skills\"]:\n",
    "                    if \"Icon\" in s.keys():\n",
    "                        if s[\"Icon\"] == img:\n",
    "                            s[\"Icon\"] = f'skill{skillCounter}{color[student[\"BulletType\"]]}'\n"
   ]
  },
  {
   "cell_type": "code",
   "execution_count": 55,
   "id": "ccee3b73",
   "metadata": {},
   "outputs": [
    {
     "data": {
      "text/plain": [
       "76"
      ]
     },
     "execution_count": 55,
     "metadata": {},
     "output_type": "execute_result"
    }
   ],
   "source": [
    "skillCounter"
   ]
  },
  {
   "cell_type": "code",
   "execution_count": 56,
   "id": "0cd304e5",
   "metadata": {},
   "outputs": [],
   "source": [
    "with open(\"./skills.json\", \"w\", encoding=\"utf-8\") as f:\n",
    "    json.dump(enData, f, ensure_ascii=False)"
   ]
  },
  {
   "cell_type": "code",
   "execution_count": 66,
   "id": "a667c790",
   "metadata": {},
   "outputs": [],
   "source": [
    "varTable = [\"Shiroko\",\n",
    "    \"Serika\",\n",
    "    \"Hoshino\",\n",
    "    \"Nonomi\",\n",
    "    \"Ayane\",\n",
    "    \"Aru\",\n",
    "    \"Mutsuki\",\n",
    "    \"Kayoko\",\n",
    "    \"Haruka\",\n",
    "    \"Fuuka\",\n",
    "    \"Juri\",\n",
    "    \"Akari\",\n",
    "    \"Haruna\",\n",
    "    \"Junko\",\n",
    "    \"Izumi\",\n",
    "    \"Hina\",\n",
    "    \"Iori\",\n",
    "    \"Chinatsu\",\n",
    "    \"Hifumi\",\n",
    "    \"Tsurugi\",\n",
    "    \"Hasumi\",\n",
    "    \"Airi\",\n",
    "    \"Yoshimi\",\n",
    "    \"Hanae\",\n",
    "    \"Serina\",\n",
    "    \"Suzumi\",\n",
    "    \"Shimiko\",\n",
    "    \"Karin\",\n",
    "    \"Neru\",\n",
    "    \"Akane\",\n",
    "    \"Asuna\",\n",
    "    \"Maki\",\n",
    "    \"Hare\",\n",
    "    \"Kotama\",\n",
    "    \"Hibiki\",\n",
    "    \"Utaha\",\n",
    "    \"Kotori\",\n",
    "    \"Sumire\",\n",
    "    \"Eimi\",\n",
    "    \"Yuuka\",\n",
    "    \"Shun\",\n",
    "    \"Saya\",\n",
    "    \"Chise\",\n",
    "    \"Tsubaki\",\n",
    "    \"Pina\",\n",
    "    \"Mashiro\",\n",
    "    \"Izuna\",\n",
    "    \"Shizuko\",\n",
    "    \"Aris\",\n",
    "    \"Momoi\",\n",
    "    \"Midori\",\n",
    "    \"Cherino\",\n",
    "    \"Nodoka\",\n",
    "    \"Yuzu\",\n",
    "    \"Azusa\",\n",
    "    \"Hanako\",\n",
    "    \"Koharu\",\n",
    "    \"AzusaSwimsuit\",\n",
    "    \"MashiroSwimsuit\",\n",
    "    \"TsurugiSwimsuit\",\n",
    "    \"HifumiSwimsuit\",\n",
    "    \"HinaSwimsuit\",\n",
    "    \"IoriSwimsuit\",\n",
    "    \"IzumiSwimsuit\",\n",
    "    \"ShirokoRiding\",\n",
    "    \"Kirino\",\n",
    "    \"ShunYoung\",\n",
    "    \"SayaCasual\",\n",
    "    \"NeruBunny\",\n",
    "    \"KarinBunny\",\n",
    "    \"AsunaBunny\",\n",
    "    \"Natsu\",\n",
    "    \"Mari\",\n",
    "    \"HatsuneMiku\",\n",
    "    \"Ako\",\n",
    "    \"CherinoHotspring\",\n",
    "    \"ChinatsuHotspring\",\n",
    "    \"Tomoe\",\n",
    "    \"NodokaHotspring\",\n",
    "    \"AruNewyear\",\n",
    "    \"MutsukiNewyear\",\n",
    "    \"SerikaNewyear\",\n",
    "    \"Fubuki\",\n",
    "    \"Wakamo\",\n",
    "    \"Sena\",\n",
    "    \"Chihiro\",\n",
    "    \"Mimori\",\n",
    "    \"Ui\",\n",
    "    \"Hinata\",\n",
    "    \"Marina\",\n",
    "    \"Saki\",\n",
    "    \"Miyako\",\n",
    "    \"Miyu\",\n",
    "    \"Kaede\",\n",
    "    \"Iroha\",\n",
    "    \"Michiru\",\n",
    "    \"Tsukuyo\",\n",
    "    \"Misaki\",\n",
    "    \"Hiyori\",\n",
    "    \"Atsuko\",\n",
    "    \"NonomiSwimsuit\",\n",
    "    \"WakamoSwimsuit\",\n",
    "    \"AyaneSwimsuit\",\n",
    "    \"HoshinoSwimsuit\",\n",
    "    \"ShizukoSwimsuit\",\n",
    "    \"IzunaSwimsuit\",\n",
    "    \"ChiseSwimsuit\",\n",
    "    \"Saori\",\n",
    "    \"Moe\",\n",
    "    \"Kazusa\",\n",
    "    \"Kokona\",\n",
    "    \"UtahaCheerleader\",\n",
    "    \"Noa\",\n",
    "    \"HibikiCheerleader\",\n",
    "    \"AkaneBunny\",\n",
    "    \"YuukaTrack\",\n",
    "    \"MariTrack\",\n",
    "    \"HasumiTrack\",\n",
    "    \"Himari\",\n",
    "    \"Shigure\",\n",
    "    \"SerinaChristmas\",\n",
    "    \"HanaeChristmas\",\n",
    "    \"HarunaNewyear\",\n",
    "    \"JunkoNewyear\",\n",
    "    \"FuukaNewyear\",\n",
    "    \"Mine\",\n",
    "    \"Mika\",\n",
    "    \"Megu\",\n",
    "    \"Kanna\",\n",
    "    \"Sakurako\",\n",
    "    \"Toki\",\n",
    "    \"Nagisa\",\n",
    "    \"Koyuki\",\n",
    "    \"KayokoNewyear\",\n",
    "    \"HarukaNewyear\",\n",
    "    \"Kaho\",\n",
    "    \"ArisMaid\",\n",
    "    \"YuzuMaid\",\n",
    "    \"TokiBunny\",\n",
    "    \"Reisa\"]"
   ]
  },
  {
   "cell_type": "code",
   "execution_count": 114,
   "id": "ea134b53",
   "metadata": {},
   "outputs": [
    {
     "name": "stdout",
     "output_type": "stream",
     "text": [
      "skillEx9Red\n",
      "skillEx15Red\n",
      "skillEx27Blue\n",
      "skillEx68Yellow\n",
      "skillEx19Red\n",
      "skillEx19Yellow\n",
      "skillEx19Yellow\n",
      "skillEx39Yellow\n",
      "skillEx39Yellow\n",
      "skillEx24Red\n",
      "skillEx74Red\n",
      "skillEx22Red\n",
      "skillEx19Yellow\n",
      "skillEx22Yellow\n",
      "skillEx37Yellow\n",
      "skillEx44Blue\n",
      "skillEx9Red\n",
      "skillEx39Yellow\n",
      "skillEx19Yellow\n",
      "skillEx20Red\n",
      "skillEx73Red\n",
      "skillEx27Yellow\n",
      "skillEx34Red\n",
      "skillEx31Yellow\n",
      "skillEx35Red\n",
      "skillEx19Red\n",
      "skillEx17Blue\n",
      "skillEx3Yellow\n",
      "skillEx9Red\n",
      "skillEx25Yellow\n",
      "skillEx9Red\n",
      "skillEx39Yellow\n",
      "skillEx44Red\n",
      "skillEx45Red\n",
      "skillEx3Red\n",
      "skillEx15Red\n",
      "skillEx38Red\n",
      "skillEx75Yellow\n",
      "skillEx24Yellow\n",
      "skillEx24Yellow\n",
      "skillEx41Red\n",
      "skillEx21Red\n",
      "skillEx3Blue\n",
      "skillEx29Red\n",
      "skillEx9Yellow\n",
      "skillEx39Red\n",
      "skillEx17Blue\n",
      "skillEx29Blue\n",
      "skillEx4Blue\n",
      "skillEx39Yellow\n",
      "skillEx19Yellow\n",
      "skillEx66Yellow\n",
      "skillEx41Red\n",
      "skillEx9Yellow\n",
      "skillEx39Red\n",
      "skillEx15Yellow\n",
      "skillEx69Red\n",
      "skillEx8Blue\n",
      "skillEx39Blue\n",
      "skillEx22Blue\n",
      "skillEx49Yellow\n",
      "skillEx39Red\n",
      "skillEx9Red\n",
      "skillEx38Red\n",
      "skillEx9Blue\n",
      "skillEx39Red\n",
      "skillEx11Red\n",
      "skillEx32Yellow\n",
      "skillEx17Red\n",
      "skillEx19Blue\n",
      "skillEx9Blue\n",
      "skillEx24Blue\n",
      "skillEx35Blue\n",
      "skillEx63Red\n",
      "skillEx41Blue\n",
      "skillEx56Red\n",
      "skillEx41Blue\n",
      "skillEx41Yellow\n",
      "skillEx24Red\n",
      "skillEx5Yellow\n",
      "skillEx14Blue\n",
      "skillEx14Yellow\n",
      "skillEx76Blue\n",
      "skillEx41Yellow\n",
      "skillEx40Blue\n",
      "skillEx39Yellow\n",
      "skillEx3Blue\n",
      "skillEx12Red\n",
      "skillEx9Blue\n",
      "skillEx14Yellow\n",
      "skillEx38Yellow\n",
      "skillEx38Yellow\n",
      "skillEx13Yellow\n",
      "skillEx35Red\n",
      "skillEx55Blue\n",
      "skillEx7Blue\n",
      "skillEx53Blue\n",
      "skillEx44Red\n",
      "skillEx37Red\n",
      "skillEx24Red\n",
      "skillEx39Yellow\n",
      "skillEx22Red\n",
      "skillEx58Yellow\n",
      "skillEx6Red\n",
      "skillEx3Blue\n",
      "skillEx28Blue\n",
      "skillEx38Blue\n",
      "skillEx2Red\n",
      "skillEx32Yellow\n",
      "skillEx39Yellow\n",
      "skillEx24Yellow\n",
      "skillEx22Blue\n",
      "skillEx37Blue\n",
      "skillEx59Red\n",
      "skillEx3Blue\n",
      "skillEx3Blue\n",
      "skillEx24Blue\n",
      "skillEx39Blue\n",
      "skillEx41Yellow\n",
      "skillEx32Red\n",
      "skillEx41Yellow\n",
      "skillEx15Blue\n",
      "skillEx9Red\n",
      "skillEx12Yellow\n",
      "skillEx9Blue\n",
      "skillEx17Red\n",
      "skillEx39Yellow\n",
      "skillEx19Red\n",
      "skillEx1Yellow\n",
      "skillEx28Blue\n",
      "skillEx60Red\n",
      "skillEx9Red\n",
      "skillEx61Blue\n",
      "skillEx6Blue\n",
      "skillEx37Red\n",
      "skillEx39Blue\n",
      "skillEx39Blue\n",
      "skillEx39Red\n",
      "skillEx9Red\n",
      "skillEx19Yellow\n"
     ]
    }
   ],
   "source": [
    "c = 0\n",
    "collection = []\n",
    "for row in varTable:\n",
    "    for student in enData:\n",
    "        if (student[\"Name\"] == row):\n",
    "            for skill in enData[c][\"Skills\"]:\n",
    "                if skill['SkillType'] == 'ex':\n",
    "                    print(\"skillEx\"+skill[\"Icon\"][5:])\n",
    "            \n",
    "            c += 1"
   ]
  },
  {
   "cell_type": "code",
   "execution_count": 91,
   "id": "68afb560",
   "metadata": {},
   "outputs": [
    {
     "data": {
      "text/plain": [
       "140"
      ]
     },
     "execution_count": 91,
     "metadata": {},
     "output_type": "execute_result"
    }
   ],
   "source": [
    "c"
   ]
  },
  {
   "cell_type": "code",
   "execution_count": 92,
   "id": "4e7dcfa5",
   "metadata": {},
   "outputs": [
    {
     "data": {
      "text/plain": [
       "560"
      ]
     },
     "execution_count": 92,
     "metadata": {},
     "output_type": "execute_result"
    }
   ],
   "source": [
    "len(collection)"
   ]
  },
  {
   "cell_type": "code",
   "execution_count": 111,
   "id": "b445f288",
   "metadata": {},
   "outputs": [],
   "source": [
    "final = set(collection)"
   ]
  },
  {
   "cell_type": "code",
   "execution_count": 113,
   "id": "66975e68",
   "metadata": {},
   "outputs": [],
   "source": [
    "d = 0\n",
    "for item in os.listdir(\"./images/icons/skills/\"):\n",
    "    if (item[:-4] not in final):\n",
    "        try:\n",
    "            os.remove(\"./images/icons/skills/\" + item)\n",
    "        except:\n",
    "            pass"
   ]
  },
  {
   "cell_type": "code",
   "execution_count": 105,
   "id": "1c0293ca",
   "metadata": {},
   "outputs": [
    {
     "data": {
      "text/plain": [
       "155"
      ]
     },
     "execution_count": 105,
     "metadata": {},
     "output_type": "execute_result"
    }
   ],
   "source": [
    "d"
   ]
  },
  {
   "cell_type": "code",
   "execution_count": 106,
   "id": "8bdab1a6",
   "metadata": {},
   "outputs": [
    {
     "data": {
      "text/plain": [
       "155"
      ]
     },
     "execution_count": 106,
     "metadata": {},
     "output_type": "execute_result"
    }
   ],
   "source": [
    "len(final)"
   ]
  },
  {
   "cell_type": "code",
   "execution_count": null,
   "id": "40661a6a",
   "metadata": {},
   "outputs": [],
   "source": []
  }
 ],
 "metadata": {
  "kernelspec": {
   "display_name": "Python 3 (ipykernel)",
   "language": "python",
   "name": "python3"
  },
  "language_info": {
   "codemirror_mode": {
    "name": "ipython",
    "version": 3
   },
   "file_extension": ".py",
   "mimetype": "text/x-python",
   "name": "python",
   "nbconvert_exporter": "python",
   "pygments_lexer": "ipython3",
   "version": "3.10.9"
  }
 },
 "nbformat": 4,
 "nbformat_minor": 5
}
