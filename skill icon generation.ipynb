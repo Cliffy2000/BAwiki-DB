{
 "cells": [
  {
   "cell_type": "code",
   "execution_count": 4,
   "id": "5192abda",
   "metadata": {},
   "outputs": [],
   "source": [
    "import os\n",
    "import numpy as np\n",
    "from PIL import Image\n",
    "from tqdm import tqdm_notebook as tqdm"
   ]
  },
  {
   "cell_type": "code",
   "execution_count": 2,
   "id": "786ec294",
   "metadata": {},
   "outputs": [],
   "source": [
    "def merge_images(image1_path, image2_path, output_path):\n",
    "    # Open the images\n",
    "    image1 = Image.open(image1_path).convert(\"RGBA\")\n",
    "    image2 = Image.open(image2_path).convert(\"RGBA\").resize((175,183))\n",
    "\n",
    "    # Create a new image with alpha channel\n",
    "    merged_image = Image.new('RGBA', image1.size)\n",
    "\n",
    "    # Paste the first image onto the merged image\n",
    "    merged_image.paste(image1, (0, 0))\n",
    "\n",
    "    # Calculate the offset for the second image\n",
    "    offset = ((image1.width - image2.width) // 2 -3, (image1.height - image2.height) // 2)\n",
    "\n",
    "    # Create a mask from the alpha channel of the second image\n",
    "    mask = image2.split()[3]\n",
    "\n",
    "    # Paste the second image onto the merged image with the mask\n",
    "    merged_image.paste(image2, offset, mask=mask)\n",
    "\n",
    "    # Save the merged image\n",
    "    merged_image.save(output_path)\n"
   ]
  },
  {
   "cell_type": "code",
   "execution_count": 3,
   "id": "160d4ee5",
   "metadata": {},
   "outputs": [],
   "source": [
    "prevPath = \"./images/icons/\"\n",
    "resultPath = './images/icons/skills/'"
   ]
  },
  {
   "cell_type": "code",
   "execution_count": 10,
   "id": "25d25f1c",
   "metadata": {},
   "outputs": [
    {
     "name": "stderr",
     "output_type": "stream",
     "text": [
      "C:\\Users\\cliff\\AppData\\Local\\Temp\\ipykernel_19628\\3012218710.py:1: TqdmDeprecationWarning: This function will be removed in tqdm==5.0.0\n",
      "Please use `tqdm.notebook.tqdm` instead of `tqdm.tqdm_notebook`\n",
      "  for skill in tqdm(os.listdir(prevPath)):\n"
     ]
    },
    {
     "data": {
      "application/vnd.jupyter.widget-view+json": {
       "model_id": "3705ead5b04d4bce8258297ac85acba3",
       "version_major": 2,
       "version_minor": 0
      },
      "text/plain": [
       "  0%|          | 0/96 [00:00<?, ?it/s]"
      ]
     },
     "metadata": {},
     "output_type": "display_data"
    }
   ],
   "source": [
    "for skill in tqdm(os.listdir(prevPath)):\n",
    "    if skill.startswith(\"skill\") and skill.endswith('.png'):\n",
    "        name = skill[:-4]\n",
    "        merge_images(prevPath+\"Yellow.png\", prevPath+name+\".png\", resultPath+name+\"Yellow.png\")\n",
    "        merge_images(prevPath+\"Red.png\", prevPath+name+\".png\", resultPath+name+\"Red.png\")\n",
    "        merge_images(prevPath+\"Blue.png\", prevPath+name+\".png\", resultPath+name+\"Blue.png\")\n",
    "        merge_images(prevPath+\"YellowEx.png\", prevPath+name+\".png\", resultPath+\"skillEx\"+name[5:]+\"Yellow.png\")\n",
    "        merge_images(prevPath+\"RedEx.png\", prevPath+name+\".png\", resultPath+\"skillEx\"+name[5:]+\"Red.png\")\n",
    "        merge_images(prevPath+\"BlueEx.png\", prevPath+name+\".png\", resultPath+\"skillEx\"+name[5:]+\"Blue.png\")"
   ]
  },
  {
   "cell_type": "code",
   "execution_count": null,
   "id": "eaf81669",
   "metadata": {},
   "outputs": [],
   "source": []
  }
 ],
 "metadata": {
  "kernelspec": {
   "display_name": "Python 3 (ipykernel)",
   "language": "python",
   "name": "python3"
  },
  "language_info": {
   "codemirror_mode": {
    "name": "ipython",
    "version": 3
   },
   "file_extension": ".py",
   "mimetype": "text/x-python",
   "name": "python",
   "nbconvert_exporter": "python",
   "pygments_lexer": "ipython3",
   "version": "3.10.9"
  }
 },
 "nbformat": 4,
 "nbformat_minor": 5
}
