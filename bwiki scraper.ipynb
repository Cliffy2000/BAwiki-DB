{
 "cells": [
  {
   "cell_type": "code",
   "execution_count": 47,
   "id": "9a306b49",
   "metadata": {},
   "outputs": [],
   "source": [
    "import os\n",
    "import requests\n",
    "from bs4 import BeautifulSoup\n",
    "from tqdm.notebook import tqdm"
   ]
  },
  {
   "cell_type": "code",
   "execution_count": 28,
   "id": "a246cc4e",
   "metadata": {},
   "outputs": [],
   "source": [
    "url = \"https://wiki.biligame.com/ba/%E7%89%B9%E6%AE%8A:%E6%96%87%E4%BB%B6%E5%88%97%E8%A1%A8?limit=1500&user=\""
   ]
  },
  {
   "cell_type": "code",
   "execution_count": null,
   "id": "9a8fb0ac",
   "metadata": {},
   "outputs": [],
   "source": []
  },
  {
   "cell_type": "code",
   "execution_count": 44,
   "id": "895d18a8",
   "metadata": {},
   "outputs": [],
   "source": [
    "def scraper(url):\n",
    "    response = requests.get(url)\n",
    "    soup = BeautifulSoup(response.text, \"html.parser\")\n",
    "    images = {}\n",
    "    \n",
    "    trs = soup.find_all(\"tr\")\n",
    "    for tr in trs:\n",
    "        tds = tr.find_all(\"td\")\n",
    "        if tds != []:\n",
    "            if len(tds) == 7:\n",
    "                hrefs = tds[1].find_all('a')\n",
    "                fileName = hrefs[0].text\n",
    "                href = hrefs[1]['href']\n",
    "                images[fileName] = href\n",
    "    \n",
    "    return images            "
   ]
  },
  {
   "cell_type": "code",
   "execution_count": 56,
   "id": "67af52dd",
   "metadata": {},
   "outputs": [],
   "source": [
    "def downloader(hrefs, path=\"./images/\"):\n",
    "    for png in tqdm(hrefs.keys()):\n",
    "        response = requests.get(hrefs[png])\n",
    "        with open(path+png, 'wb') as file:\n",
    "            file.write(response.content)"
   ]
  },
  {
   "cell_type": "code",
   "execution_count": 53,
   "id": "4de248b8",
   "metadata": {},
   "outputs": [],
   "source": [
    "imageHrefs = scraper(url)"
   ]
  },
  {
   "cell_type": "code",
   "execution_count": 57,
   "id": "2ecf1601",
   "metadata": {},
   "outputs": [
    {
     "data": {
      "application/vnd.jupyter.widget-view+json": {
       "model_id": "54f5cd7a5a04491f83ca112441c042de",
       "version_major": 2,
       "version_minor": 0
      },
      "text/plain": [
       "  0%|          | 0/1046 [00:00<?, ?it/s]"
      ]
     },
     "metadata": {},
     "output_type": "display_data"
    }
   ],
   "source": [
    "downloader(imageHrefs)"
   ]
  },
  {
   "cell_type": "code",
   "execution_count": null,
   "id": "c42ab791",
   "metadata": {},
   "outputs": [],
   "source": []
  }
 ],
 "metadata": {
  "kernelspec": {
   "display_name": "Python 3 (ipykernel)",
   "language": "python",
   "name": "python3"
  },
  "language_info": {
   "codemirror_mode": {
    "name": "ipython",
    "version": 3
   },
   "file_extension": ".py",
   "mimetype": "text/x-python",
   "name": "python",
   "nbconvert_exporter": "python",
   "pygments_lexer": "ipython3",
   "version": "3.10.9"
  }
 },
 "nbformat": 4,
 "nbformat_minor": 5
}
