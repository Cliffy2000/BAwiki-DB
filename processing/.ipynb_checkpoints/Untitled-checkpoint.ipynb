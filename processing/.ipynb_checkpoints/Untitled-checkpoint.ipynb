{
 "cells": [
  {
   "cell_type": "code",
   "execution_count": 1,
   "id": "7c7d7810",
   "metadata": {},
   "outputs": [],
   "source": [
    "import os\n",
    "import json\n",
    "import pandas\n",
    "from PIL import Image"
   ]
  },
  {
   "cell_type": "code",
   "execution_count": 2,
   "id": "3d32648a",
   "metadata": {},
   "outputs": [],
   "source": [
    "def webp2png(img):\n",
    "    with Image.open(img) as im:\n",
    "        im.save('C:/Users/Cliff/Desktop/SchaleDB-Adjusted/result.png')\n",
    "\n",
    "webp2png(\"../../SchaleDB/images/student/portrait/10000.webp\")\n",
    "\n",
    "for img in os.listdir(\"../../SchaleDB/images/student/portrait/\")"
   ]
  },
  {
   "cell_type": "code",
   "execution_count": 4,
   "id": "719bb7d6",
   "metadata": {},
   "outputs": [],
   "source": [
    "studentDataFile = \"../../SchaleDB/data/jp/students.json\""
   ]
  },
  {
   "cell_type": "code",
   "execution_count": 11,
   "id": "8bee8d88",
   "metadata": {},
   "outputs": [],
   "source": [
    "with open(studentDataFile, \"r\", encoding=\"utf-8\") as f:\n",
    "    data = json.load(f)\n",
    "f.close()"
   ]
  },
  {
   "cell_type": "code",
   "execution_count": 18,
   "id": "0a7ed2e8",
   "metadata": {},
   "outputs": [],
   "source": [
    "allIcons = set()\n",
    "for student in data:\n",
    "    skillList = student['Skills']\n",
    "    for skill in skillList:\n",
    "        if skill['SkillType'] != 'autoattack':\n",
    "            allIcons.add(skill['Icon'])"
   ]
  },
  {
   "cell_type": "code",
   "execution_count": 19,
   "id": "9d762c38",
   "metadata": {},
   "outputs": [
    {
     "data": {
      "text/plain": [
       "{'COMMON_SKILLICON_ACCUMULATE',\n",
       " 'COMMON_SKILLICON_AlWAYSCRITICAL',\n",
       " 'COMMON_SKILLICON_BATTLEITEM',\n",
       " 'COMMON_SKILLICON_BEAM',\n",
       " 'COMMON_SKILLICON_BOUNCEPROJECTILE',\n",
       " 'COMMON_SKILLICON_BULLETTYPEBUFF',\n",
       " 'COMMON_SKILLICON_BURNNIG',\n",
       " 'COMMON_SKILLICON_CHILL',\n",
       " 'COMMON_SKILLICON_CIRCLE',\n",
       " 'COMMON_SKILLICON_CIRCLERADIUSINCREASE',\n",
       " 'COMMON_SKILLICON_CLOUD',\n",
       " 'COMMON_SKILLICON_COSTDECREASE',\n",
       " 'COMMON_SKILLICON_DAMAGEBYHIT_DAMAGED',\n",
       " 'COMMON_SKILLICON_DONUT',\n",
       " 'COMMON_SKILLICON_DOTHEAL',\n",
       " 'COMMON_SKILLICON_DUALBUFF',\n",
       " 'COMMON_SKILLICON_EVASION',\n",
       " 'COMMON_SKILLICON_EXTRADAMAGE',\n",
       " 'COMMON_SKILLICON_FAN',\n",
       " 'COMMON_SKILLICON_FEAR',\n",
       " 'COMMON_SKILLICON_FOODDEBUFF',\n",
       " 'COMMON_SKILLICON_FORMCHANGE',\n",
       " 'COMMON_SKILLICON_FURY',\n",
       " 'COMMON_SKILLICON_HEAL',\n",
       " 'COMMON_SKILLICON_IGNOREDELAY',\n",
       " 'COMMON_SKILLICON_IMMORTAL',\n",
       " 'COMMON_SKILLICON_LINE',\n",
       " 'COMMON_SKILLICON_MARK',\n",
       " 'COMMON_SKILLICON_OBSTACLE',\n",
       " 'COMMON_SKILLICON_POISON',\n",
       " 'COMMON_SKILLICON_PROVOKE',\n",
       " 'COMMON_SKILLICON_RECZONE',\n",
       " 'COMMON_SKILLICON_REGENCOST',\n",
       " 'COMMON_SKILLICON_RELOAD',\n",
       " 'COMMON_SKILLICON_SHIELD',\n",
       " 'COMMON_SKILLICON_STATBUFF',\n",
       " 'COMMON_SKILLICON_STATDEBUFF',\n",
       " 'COMMON_SKILLICON_STUNNED',\n",
       " 'COMMON_SKILLICON_TARGET',\n",
       " 'COMMON_SKILLICON_TRUCK',\n",
       " 'COMMON_SKILLICON_WEAPONBUFF',\n",
       " 'COMMON_SKILLICON_WEAPONDEBUFF',\n",
       " 'COMMON_SKILLICON_WEAPONDUALEFFECT',\n",
       " 'COMMON_SKILLICON_ZONE',\n",
       " 'SKILLICON_AIRI_EXSKILL',\n",
       " 'SKILLICON_ARIS_EXTRAPASSIVESKILL',\n",
       " 'SKILLICON_ARIS_PUBLICSKILL',\n",
       " 'SKILLICON_ARUNEWYEAR_EXTRAPASSIVESKILL',\n",
       " 'SKILLICON_CH0058_EXSKILL',\n",
       " 'SKILLICON_CH0066_EXTRAPASSIVESKILL',\n",
       " 'SKILLICON_CH0069_EXTRAPASSIVESKILL',\n",
       " 'SKILLICON_CH0113_EXTRAPASSIVE',\n",
       " 'SKILLICON_CH0114_EXSKILL',\n",
       " 'SKILLICON_CH0137_EXTRAPASSIVESKILL',\n",
       " 'SKILLICON_CH0156_EXSKILL',\n",
       " 'SKILLICON_CH0164_EXSKILL',\n",
       " 'SKILLICON_CH0175_PUBLICSKILL',\n",
       " 'SKILLICON_CH0176_EXSKILL',\n",
       " 'SKILLICON_CH0181_EXSKILL',\n",
       " 'SKILLICON_CH0187_EXSKILL',\n",
       " 'SKILLICON_CH0193_EXSKILL',\n",
       " 'SKILLICON_CH0198_EXSKILL',\n",
       " 'SKILLICON_CH0200_EXTRAPASSIVE',\n",
       " 'SKILLICON_CH0209_EXTRAPASSIVESKILL',\n",
       " 'SKILLICON_CH9999_EXSKILL',\n",
       " 'SKILLICON_CH9999_EXTRAPASSIVESKILL',\n",
       " 'SKILLICON_CH9999_PUBLICSKILL',\n",
       " 'SKILLICON_CHERINO_EXSKILL',\n",
       " 'SKILLICON_CHERINO_EXTRAPASSIVESKILL',\n",
       " 'SKILLICON_HIHUMI_EXSKILL',\n",
       " 'SKILLICON_KOHARU_EXSKILL',\n",
       " 'SKILLICON_MIDORI_EXTRAPASSIVESKILL',\n",
       " 'SKILLICON_MOMOI_EXTRAPASSIVESKILL',\n",
       " 'SKILLICON_MUSTUKINEWYEAR_EXTRAPASSIVESKILL',\n",
       " 'SKILLICON_MUTSUKI_EXSKILL',\n",
       " 'SKILLICON_SHIROKO_EXSKILL',\n",
       " 'SKILLICON_UTAHA_EXSKILL',\n",
       " 'SKILLICON_WAKAMO_EXSKILL'}"
      ]
     },
     "execution_count": 19,
     "metadata": {},
     "output_type": "execute_result"
    }
   ],
   "source": [
    "allIcons"
   ]
  },
  {
   "cell_type": "code",
   "execution_count": null,
   "id": "f271540c",
   "metadata": {},
   "outputs": [],
   "source": []
  }
 ],
 "metadata": {
  "kernelspec": {
   "display_name": "Python 3 (ipykernel)",
   "language": "python",
   "name": "python3"
  },
  "language_info": {
   "codemirror_mode": {
    "name": "ipython",
    "version": 3
   },
   "file_extension": ".py",
   "mimetype": "text/x-python",
   "name": "python",
   "nbconvert_exporter": "python",
   "pygments_lexer": "ipython3",
   "version": "3.11.4"
  }
 },
 "nbformat": 4,
 "nbformat_minor": 5
}
