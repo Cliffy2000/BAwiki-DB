{
 "cells": [
  {
   "cell_type": "code",
   "execution_count": 1,
   "id": "ee6e1759",
   "metadata": {},
   "outputs": [],
   "source": [
    "import os\n",
    "import json\n",
    "import csv"
   ]
  },
  {
   "cell_type": "code",
   "execution_count": 2,
   "id": "0259dd1b",
   "metadata": {},
   "outputs": [],
   "source": [
    "translatedPath = \"C:/Users/cliff/Desktop/物品图鉴UTF-8/物品图鉴UTF-8/\"\n",
    "translatedFiles = os.listdir(translatedPath)"
   ]
  },
  {
   "cell_type": "code",
   "execution_count": 3,
   "id": "91602f1b",
   "metadata": {},
   "outputs": [],
   "source": [
    "# dataFolders = [\"general\", \"furniture\", \"equipment\", \"currency\"]\n",
    "dataFolders = [\"furniture\"]\n",
    "dataFolderPath = \"C:/Users/cliff/Desktop/BAwiki-DB/data/items/\""
   ]
  },
  {
   "cell_type": "code",
   "execution_count": 4,
   "id": "1f8f45c3",
   "metadata": {},
   "outputs": [
    {
     "name": "stdout",
     "output_type": "stream",
     "text": [
      "==== Missing file: Basic.csv ====\n",
      "==== Missing file: JelliesArcade.csv ====\n",
      "==== Missing file: Valentine.csv ====\n"
     ]
    }
   ],
   "source": [
    "translateData = []\n",
    "missingFiles = []\n",
    "\n",
    "for folder in dataFolders:\n",
    "    files = os.listdir(dataFolderPath + folder + \"/\")\n",
    "    for file in files:\n",
    "        if file in translatedFiles:\n",
    "            with open(translatedPath+file, \"r\", encoding=\"utf-8-sig\") as f:\n",
    "                content = csv.reader(f)\n",
    "                for line in content:\n",
    "                    if line[0] == \"schaleDbID\":\n",
    "                        continue\n",
    "                    translateData.append(line)\n",
    "            \n",
    "            f.close()\n",
    "            \n",
    "        else:\n",
    "            missingFiles.append(file)\n",
    "            \n",
    "for file in missingFiles:\n",
    "    print(\"==== Missing file: %s ====\" % (file))"
   ]
  },
  {
   "cell_type": "code",
   "execution_count": 15,
   "id": "6afc9179",
   "metadata": {},
   "outputs": [],
   "source": [
    "schaleData = []\n",
    "schalePath = \"C:/Users/cliff/Desktop/New folder (2)/SchaleDB/data/\"\n",
    "schaleLan = [\"jp/\", \"en/\", \"tw/\", \"kr/\"]\n",
    "\n",
    "with open(schalePath + schaleLan[0] +\"furniture.json\", \"r\", encoding=\"utf-8\") as f:\n",
    "    schaleFurnitureJp = json.load(f)\n",
    "f.close()\n",
    "with open(schalePath + schaleLan[1] +\"furniture.json\", \"r\", encoding=\"utf-8\") as f:\n",
    "    schaleFurnitureEn = json.load(f)\n",
    "f.close()\n",
    "with open(schalePath + schaleLan[2] +\"furniture.json\", \"r\", encoding=\"utf-8\") as f:\n",
    "    schaleFurnitureTw = json.load(f)\n",
    "f.close()\n",
    "with open(schalePath + schaleLan[3] +\"furniture.json\", \"r\", encoding=\"utf-8\") as f:\n",
    "    schaleFurnitureKr = json.load(f)\n",
    "f.close()"
   ]
  },
  {
   "cell_type": "code",
   "execution_count": 13,
   "id": "6eaaa0b4",
   "metadata": {},
   "outputs": [
    {
     "data": {
      "text/plain": [
       "76"
      ]
     },
     "execution_count": 13,
     "metadata": {},
     "output_type": "execute_result"
    }
   ],
   "source": [
    "len([item for item in schaleFurnitureJp if (item[\"SetGroupId\"] == 0 and \"Trophy\" in item[\"Icon\"])])"
   ]
  },
  {
   "cell_type": "code",
   "execution_count": 17,
   "id": "c4bd92cf",
   "metadata": {},
   "outputs": [
    {
     "data": {
      "text/plain": [
       "{'Id': 1,\n",
       " 'IsReleased': [True, True],\n",
       " 'Rarity': 'N',\n",
       " 'Icon': 'My_Defaultroom_Tile',\n",
       " 'ComfortBonus': 20,\n",
       " 'Category': 'Interiors',\n",
       " 'Tags': ['CraftMaterial_FurnitureN',\n",
       "  'Furniture',\n",
       "  'CraftMaterial_Furniture',\n",
       "  'ShiftingCraftMaterial_Furniture'],\n",
       " 'SynthQuality': [20, 10],\n",
       " 'SubCategory': 'Floor',\n",
       " 'SetGroupId': 0,\n",
       " 'Name': 'ナチュラルな木の床',\n",
       " 'Desc': '木の床。温かくて自然な雰囲気を与えてくれる。',\n",
       " 'Interaction': [False, False]}"
      ]
     },
     "execution_count": 17,
     "metadata": {},
     "output_type": "execute_result"
    }
   ],
   "source": [
    "schaleFurnitureJp[0]"
   ]
  },
  {
   "cell_type": "code",
   "execution_count": 14,
   "id": "83737163",
   "metadata": {},
   "outputs": [
    {
     "data": {
      "text/plain": [
       "True"
      ]
     },
     "execution_count": 14,
     "metadata": {},
     "output_type": "execute_result"
    }
   ],
   "source": [
    "# check for duplicates in schaleId\n",
    "len(translateData) == len(set([item[0] for item in translateData]))"
   ]
  },
  {
   "cell_type": "code",
   "execution_count": 93,
   "id": "e31c90f4",
   "metadata": {},
   "outputs": [
    {
     "data": {
      "text/plain": [
       "255"
      ]
     },
     "execution_count": 93,
     "metadata": {},
     "output_type": "execute_result"
    }
   ],
   "source": [
    "translatedFurniture = {}\n",
    "for item in translateData:\n",
    "    translatedFurniture[int(item[0])] = item[1:]\n",
    "\n",
    "# currently using JP server data\n",
    "furnitureJp = {}\n",
    "itemIndex = 0\n",
    "index = 1\n",
    "for item in schaleFurnitureJp:\n",
    "    if item[\"Id\"] in translatedFurniture:\n",
    "        newItem = {\n",
    "            \"itemName\": item[\"Name\"], # used to identify unique items\n",
    "            \"name\": {\n",
    "                \"cn\": translatedFurniture[item[\"Id\"]][1],\n",
    "                \"tw\": schaleFurnitureTw[itemIndex][\"Name\"],\n",
    "                \"en\": schaleFurnitureEn[itemIndex][\"Name\"],\n",
    "                \"jp\": item[\"Name\"],\n",
    "                \"kr\": schaleFurnitureKr[itemIndex][\"Name\"]\n",
    "            },\n",
    "            \"desc\": {\n",
    "                \"cn\": translatedFurniture[item[\"Id\"]][1],\n",
    "                \"tw\": schaleFurnitureTw[itemIndex][\"Name\"],\n",
    "                \"en\": schaleFurnitureEn[itemIndex][\"Name\"],\n",
    "                \"jp\": item[\"Name\"],\n",
    "                \"kr\": schaleFurnitureKr[itemIndex][\"Name\"]\n",
    "            },\n",
    "        }\n",
    "    \n",
    "    itemIndex += 1"
   ]
  },
  {
   "cell_type": "code",
   "execution_count": 91,
   "id": "923d806b",
   "metadata": {},
   "outputs": [
    {
     "data": {
      "text/plain": [
       "255"
      ]
     },
     "execution_count": 91,
     "metadata": {},
     "output_type": "execute_result"
    }
   ],
   "source": [
    "furnitureData = []\n"
   ]
  },
  {
   "cell_type": "code",
   "execution_count": null,
   "id": "58b23ecd",
   "metadata": {},
   "outputs": [],
   "source": []
  },
  {
   "cell_type": "code",
   "execution_count": null,
   "id": "98ac575d",
   "metadata": {},
   "outputs": [],
   "source": []
  }
 ],
 "metadata": {
  "kernelspec": {
   "display_name": "Python 3 (ipykernel)",
   "language": "python",
   "name": "python3"
  },
  "language_info": {
   "codemirror_mode": {
    "name": "ipython",
    "version": 3
   },
   "file_extension": ".py",
   "mimetype": "text/x-python",
   "name": "python",
   "nbconvert_exporter": "python",
   "pygments_lexer": "ipython3",
   "version": "3.10.9"
  }
 },
 "nbformat": 4,
 "nbformat_minor": 5
}
