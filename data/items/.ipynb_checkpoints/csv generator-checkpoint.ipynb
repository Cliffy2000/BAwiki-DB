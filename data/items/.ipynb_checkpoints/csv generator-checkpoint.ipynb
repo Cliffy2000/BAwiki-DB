{
 "cells": [
  {
   "cell_type": "code",
   "execution_count": 6,
   "id": "231aa135",
   "metadata": {},
   "outputs": [],
   "source": [
    "import csv\n",
    "import json"
   ]
  },
  {
   "cell_type": "code",
   "execution_count": 59,
   "id": "faf3768f",
   "metadata": {},
   "outputs": [],
   "source": [
    "headers = ['schaleDbID', '物品名称（原文）', '物品名称', '物品介绍（原文）', '物品介绍']"
   ]
  },
  {
   "cell_type": "code",
   "execution_count": 75,
   "id": "faa0e87a",
   "metadata": {},
   "outputs": [],
   "source": [
    "jpPath = \"../../../New folder (2)/SchaleDB/data/jp/items.json\"\n",
    "jpPath2 = \"../../../New folder (2)/SchaleDB/data/jp/currency.json\""
   ]
  },
  {
   "cell_type": "code",
   "execution_count": 76,
   "id": "e073a75d",
   "metadata": {},
   "outputs": [],
   "source": [
    "with open(jpPath, \"r\", encoding='utf-8') as f:\n",
    "    jpData = json.load(f)\n",
    "with open(jpPath2, \"r\", encoding='utf-8') as f:\n",
    "    jpData2 = json.load(f)"
   ]
  },
  {
   "cell_type": "code",
   "execution_count": 77,
   "id": "438aa5e9",
   "metadata": {},
   "outputs": [],
   "source": [
    "def categoryCSV(cat):\n",
    "    with open(f'./general/{cat}.csv', 'w', newline='', encoding='utf-8-sig') as file:\n",
    "        writer = csv.writer(file)\n",
    "        writer.writerow(headers)\n",
    "        for item in jpData:\n",
    "            if item['Category'] == cat or (cat=='Consumable' and item['Category']=='CharacterExpGrowth'):\n",
    "                writer.writerow([item[\"Id\"], item['Name'], '', item['Desc'], ''])"
   ]
  },
  {
   "cell_type": "code",
   "execution_count": 78,
   "id": "83b6db33",
   "metadata": {},
   "outputs": [],
   "source": [
    "for cat in categories:\n",
    "    categoryCSV(cat)"
   ]
  },
  {
   "cell_type": "code",
   "execution_count": 79,
   "id": "84a2735f",
   "metadata": {},
   "outputs": [],
   "source": [
    "with open(f'./currency/Currency.csv', 'w', newline='', encoding='utf-8-sig') as file:\n",
    "        writer = csv.writer(file)\n",
    "        writer.writerow(headers)\n",
    "        for item in jpData2:\n",
    "            writer.writerow([item[\"Id\"], item['Name'], '', item['Desc'], ''])"
   ]
  },
  {
   "cell_type": "code",
   "execution_count": 10,
   "id": "ecee5273",
   "metadata": {},
   "outputs": [],
   "source": [
    "tags = set()\n",
    "for item in jpData:\n",
    "    for each in item['Tags']:\n",
    "        if not each.startswith('F_'):\n",
    "            tags.add(each)"
   ]
  },
  {
   "cell_type": "code",
   "execution_count": null,
   "id": "e09055a7",
   "metadata": {},
   "outputs": [],
   "source": []
  },
  {
   "cell_type": "code",
   "execution_count": null,
   "id": "951f4cf9",
   "metadata": {},
   "outputs": [],
   "source": []
  },
  {
   "cell_type": "code",
   "execution_count": null,
   "id": "eb41e70e",
   "metadata": {},
   "outputs": [],
   "source": []
  },
  {
   "cell_type": "code",
   "execution_count": null,
   "id": "1d151f69",
   "metadata": {},
   "outputs": [],
   "source": []
  },
  {
   "cell_type": "code",
   "execution_count": null,
   "id": "4d26e14e",
   "metadata": {},
   "outputs": [],
   "source": []
  },
  {
   "cell_type": "code",
   "execution_count": null,
   "id": "ec2e8031",
   "metadata": {},
   "outputs": [],
   "source": []
  },
  {
   "cell_type": "code",
   "execution_count": null,
   "id": "8c6a39b0",
   "metadata": {},
   "outputs": [],
   "source": []
  },
  {
   "cell_type": "code",
   "execution_count": 39,
   "id": "f7265f0c",
   "metadata": {},
   "outputs": [],
   "source": [
    "categories = set()\n",
    "count = 0\n",
    "for item in jpData:\n",
    "    categories.add(item['Category'])\n",
    "    if item['Category'] == \"Coin\":\n",
    "        count += 1\n",
    "categories = list(categories)\n",
    "categories.remove('CharacterExpGrowth')"
   ]
  },
  {
   "cell_type": "code",
   "execution_count": 31,
   "id": "1b22bb5a",
   "metadata": {},
   "outputs": [
    {
     "data": {
      "text/plain": [
       "149"
      ]
     },
     "execution_count": 31,
     "metadata": {},
     "output_type": "execute_result"
    }
   ],
   "source": [
    "count"
   ]
  },
  {
   "cell_type": "code",
   "execution_count": 40,
   "id": "e6b8df81",
   "metadata": {
    "scrolled": false
   },
   "outputs": [
    {
     "data": {
      "text/plain": [
       "['Material', 'Consumable', 'Collectible', 'Coin', 'Favor', 'SecretStone']"
      ]
     },
     "execution_count": 40,
     "metadata": {},
     "output_type": "execute_result"
    }
   ],
   "source": [
    "categories"
   ]
  },
  {
   "cell_type": "code",
   "execution_count": 18,
   "id": "cc70384c",
   "metadata": {},
   "outputs": [
    {
     "data": {
      "text/plain": [
       "{'Army',\n",
       " 'Art',\n",
       " 'Beauty',\n",
       " 'Bedding',\n",
       " 'BigMeal',\n",
       " 'BookItem',\n",
       " 'BookItemN',\n",
       " 'BookItemR',\n",
       " 'BookItemSR',\n",
       " 'BookItemSSR',\n",
       " 'Books',\n",
       " 'CDItem',\n",
       " 'CDItemN',\n",
       " 'CDItemR',\n",
       " 'CDItemSR',\n",
       " 'CDItemSSR',\n",
       " 'Cosmetics',\n",
       " 'CraftCommitment',\n",
       " 'CraftItem',\n",
       " 'CraftMaterial_FavorItemSR',\n",
       " 'CraftMaterial_FavorItemSSR',\n",
       " 'CraftMaterial_SecretStone',\n",
       " 'Curios',\n",
       " 'CuriousFellow',\n",
       " 'Delicious',\n",
       " 'Dessert',\n",
       " 'Detective',\n",
       " 'Doll',\n",
       " 'Electronic',\n",
       " 'ExpItem',\n",
       " 'ExpendableItem',\n",
       " 'Fashion',\n",
       " 'FavorItem',\n",
       " 'Food',\n",
       " 'Freakish',\n",
       " 'Functional',\n",
       " 'Game',\n",
       " 'Gift1',\n",
       " 'Gift2',\n",
       " 'Girlish',\n",
       " 'Horticulture',\n",
       " 'Household',\n",
       " 'Humanities',\n",
       " 'Jellyz',\n",
       " 'LoveStory',\n",
       " 'MaterialItem',\n",
       " 'MaterialItemN',\n",
       " 'MaterialItemR',\n",
       " 'MaterialItemSR',\n",
       " 'MaterialItemSSR',\n",
       " 'MomoFriends',\n",
       " 'Movie',\n",
       " 'Music',\n",
       " 'Mystery',\n",
       " 'Observational',\n",
       " 'PureLiterature',\n",
       " 'Reservation',\n",
       " 'Roman',\n",
       " 'SecretStone',\n",
       " 'ShiftingCraftCategory_BookItem',\n",
       " 'ShiftingCraftCategory_CDItem',\n",
       " 'ShiftingCraftCategory_CommonMaterial',\n",
       " 'ShiftingCraftCategory_FavorItem',\n",
       " 'ShiftingCraftCategory_Furniture',\n",
       " 'Simplicity',\n",
       " 'SkillBookUltimatePieace',\n",
       " 'Smart',\n",
       " 'Specialized',\n",
       " 'Sports',\n",
       " 'Swimsuit',\n",
       " 'Token_S14',\n",
       " 'Token_S6',\n",
       " 'Toy',\n",
       " 'ValkyrieBook',\n",
       " 'ValkyrieCD',\n",
       " 'WaterPlay'}"
      ]
     },
     "execution_count": 18,
     "metadata": {},
     "output_type": "execute_result"
    }
   ],
   "source": [
    "tags"
   ]
  },
  {
   "cell_type": "code",
   "execution_count": null,
   "id": "713d805b",
   "metadata": {},
   "outputs": [],
   "source": [
    "\n",
    "# Define the numbers in a 3x3 grid\n",
    "numbers = [[1, 2, 3],\n",
    "           [4, 5, 6],\n",
    "           [7, 8, 9]]\n",
    "\n",
    "# Specify the CSV file path\n",
    "csv_file = \"grid.csv\"\n",
    "\n",
    "# Write the numbers to the CSV file\n",
    "with open(csv_file, 'w', newline='') as file:\n",
    "    writer = csv.writer(file)\n",
    "    writer.writerows(numbers)\n"
   ]
  }
 ],
 "metadata": {
  "kernelspec": {
   "display_name": "Python 3 (ipykernel)",
   "language": "python",
   "name": "python3"
  },
  "language_info": {
   "codemirror_mode": {
    "name": "ipython",
    "version": 3
   },
   "file_extension": ".py",
   "mimetype": "text/x-python",
   "name": "python",
   "nbconvert_exporter": "python",
   "pygments_lexer": "ipython3",
   "version": "3.10.9"
  }
 },
 "nbformat": 4,
 "nbformat_minor": 5
}
