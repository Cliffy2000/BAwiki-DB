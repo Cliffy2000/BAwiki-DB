{
 "cells": [
  {
   "cell_type": "code",
   "execution_count": 6,
   "id": "4a200e67",
   "metadata": {},
   "outputs": [],
   "source": [
    "import csv\n",
    "import json"
   ]
  },
  {
   "cell_type": "code",
   "execution_count": 59,
   "id": "66151bc0",
   "metadata": {},
   "outputs": [],
   "source": [
    "headers = ['schaleDbID', '物品名称（原文）', '物品名称', '物品介绍（原文）', '物品介绍']"
   ]
  },
  {
   "cell_type": "code",
   "execution_count": 80,
   "id": "9d04468b",
   "metadata": {},
   "outputs": [],
   "source": [
    "jpPath = \"../../../New folder (2)/SchaleDB/data/jp/items.json\"\n",
    "jpPath2 = \"../../../New folder (2)/SchaleDB/data/jp/currency.json\"\n",
    "jpPath3 = \"../../../New folder (2)/SchaleDB/data/jp/equipment.json\"\n",
    "jpPath4 = \"../../../New folder (2)/SchaleDB/data/jp/furniture.json\""
   ]
  },
  {
   "cell_type": "code",
   "execution_count": 81,
   "id": "dfd52213",
   "metadata": {},
   "outputs": [],
   "source": [
    "with open(jpPath, \"r\", encoding='utf-8') as f:\n",
    "    jpData = json.load(f)\n",
    "with open(jpPath2, \"r\", encoding='utf-8') as f:\n",
    "    jpData2 = json.load(f)\n",
    "with open(jpPath3, \"r\", encoding='utf-8') as f:\n",
    "    jpData3 = json.load(f)\n",
    "with open(jpPath4, \"r\", encoding='utf-8') as f:\n",
    "    jpData4 = json.load(f)"
   ]
  },
  {
   "cell_type": "code",
   "execution_count": 77,
   "id": "a46abe8b",
   "metadata": {},
   "outputs": [],
   "source": [
    "def categoryCSV(cat):\n",
    "    with open(f'./general/{cat}.csv', 'w', newline='', encoding='utf-8-sig') as file:\n",
    "        writer = csv.writer(file)\n",
    "        writer.writerow(headers)\n",
    "        for item in jpData:\n",
    "            if item['Category'] == cat or (cat=='Consumable' and item['Category']=='CharacterExpGrowth'):\n",
    "                writer.writerow([item[\"Id\"], item['Name'], '', item['Desc'], ''])"
   ]
  },
  {
   "cell_type": "code",
   "execution_count": 78,
   "id": "74e85425",
   "metadata": {},
   "outputs": [],
   "source": [
    "for cat in categories:\n",
    "    categoryCSV(cat)"
   ]
  },
  {
   "cell_type": "code",
   "execution_count": 79,
   "id": "f346c292",
   "metadata": {},
   "outputs": [],
   "source": [
    "with open(f'./currency/Currency.csv', 'w', newline='', encoding='utf-8-sig') as file:\n",
    "        writer = csv.writer(file)\n",
    "        writer.writerow(headers)\n",
    "        for item in jpData2:\n",
    "            writer.writerow([item[\"Id\"], item['Name'], '', item['Desc'], ''])"
   ]
  },
  {
   "cell_type": "code",
   "execution_count": 82,
   "id": "71716283",
   "metadata": {},
   "outputs": [],
   "source": [
    "with open(f'./equipment/Equipment.csv', 'w', newline='', encoding='utf-8-sig') as file:\n",
    "        writer = csv.writer(file)\n",
    "        writer.writerow(headers)\n",
    "        for item in jpData3:\n",
    "            writer.writerow([item[\"Id\"], item['Name'], '', item['Desc'], ''])"
   ]
  },
  {
   "cell_type": "code",
   "execution_count": 84,
   "id": "19335258",
   "metadata": {},
   "outputs": [],
   "source": [
    "FurnitureSet= {\n",
    "        \"0\": \"Basic Set\",\n",
    "        \"100\": \"Momo Friends Cafe Set\",\n",
    "        \"101\": \"Jellies Arcade Set\",\n",
    "        \"102\": \"Valentine Set\",\n",
    "        \"103\": \"Summer Resort Pool Party Set\",\n",
    "        \"104\": \"Jack-O-Lantern Cafe Set\",\n",
    "        \"105\": \"Hot Springs Resort Set\",\n",
    "        \"106\": \"New Year House Set\",\n",
    "        \"107\": \"Military Campground Set\",\n",
    "        \"108\": \"Beachside Set\",\n",
    "        \"109\": \"Field Day Set\",\n",
    "        \"110\": \"Abydos Classroom Set\",\n",
    "        \"111\": \"Game Development Department Set\"\n",
    "    }"
   ]
  },
  {
   "cell_type": "code",
   "execution_count": null,
   "id": "65f21456",
   "metadata": {},
   "outputs": [],
   "source": [
    "with open(f'./furniture/Furniture.csv', 'w', newline='', encoding='utf-8-sig') as file:\n",
    "        writer = csv.writer(file)\n",
    "        writer.writerow(headers)\n",
    "        for item in jpData4:\n",
    "            writer.writerow([item[\"Id\"], item['Name'], '', item['Desc'], ''])"
   ]
  },
  {
   "cell_type": "code",
   "execution_count": 98,
   "id": "701a6c06",
   "metadata": {},
   "outputs": [],
   "source": [
    "def furnitureCSV(s):\n",
    "    name = ''.join(FurnitureSet[s].split(' ')[:-1])\n",
    "    with open(f'./furniture/{name}.csv', 'w', newline='', encoding='utf-8-sig') as file:\n",
    "        writer = csv.writer(file)\n",
    "        writer.writerow(headers)\n",
    "        for item in jpData4:\n",
    "            if str(s) == str(item['SetGroupId']):\n",
    "                writer.writerow([item[\"Id\"], item['Name'], '', item['Desc'], ''])"
   ]
  },
  {
   "cell_type": "code",
   "execution_count": 99,
   "id": "8e25e95d",
   "metadata": {},
   "outputs": [
    {
     "name": "stdout",
     "output_type": "stream",
     "text": [
      "0\n",
      "100\n",
      "101\n",
      "102\n",
      "103\n",
      "104\n",
      "105\n",
      "106\n",
      "107\n",
      "108\n",
      "109\n",
      "110\n",
      "111\n"
     ]
    }
   ],
   "source": [
    "for k in FurnitureSet.keys():\n",
    "    print(k)\n",
    "    furnitureCSV(k)"
   ]
  },
  {
   "cell_type": "code",
   "execution_count": null,
   "id": "708ecd2f",
   "metadata": {},
   "outputs": [],
   "source": []
  },
  {
   "cell_type": "code",
   "execution_count": null,
   "id": "ae27a6ab",
   "metadata": {},
   "outputs": [],
   "source": []
  },
  {
   "cell_type": "code",
   "execution_count": null,
   "id": "c56563dc",
   "metadata": {},
   "outputs": [],
   "source": []
  },
  {
   "cell_type": "code",
   "execution_count": null,
   "id": "d9938716",
   "metadata": {},
   "outputs": [],
   "source": []
  },
  {
   "cell_type": "code",
   "execution_count": null,
   "id": "da70bce7",
   "metadata": {},
   "outputs": [],
   "source": []
  },
  {
   "cell_type": "code",
   "execution_count": null,
   "id": "db4286fa",
   "metadata": {},
   "outputs": [],
   "source": []
  },
  {
   "cell_type": "code",
   "execution_count": 10,
   "id": "92a9198f",
   "metadata": {},
   "outputs": [],
   "source": [
    "tags = set()\n",
    "for item in jpData:\n",
    "    for each in item['Tags']:\n",
    "        if not each.startswith('F_'):\n",
    "            tags.add(each)"
   ]
  },
  {
   "cell_type": "code",
   "execution_count": 39,
   "id": "696615a5",
   "metadata": {},
   "outputs": [],
   "source": [
    "categories = set()\n",
    "count = 0\n",
    "for item in jpData:\n",
    "    categories.add(item['Category'])\n",
    "    if item['Category'] == \"Coin\":\n",
    "        count += 1\n",
    "categories = list(categories)\n",
    "categories.remove('CharacterExpGrowth')"
   ]
  },
  {
   "cell_type": "code",
   "execution_count": 31,
   "id": "40b6a721",
   "metadata": {},
   "outputs": [
    {
     "data": {
      "text/plain": [
       "149"
      ]
     },
     "execution_count": 31,
     "metadata": {},
     "output_type": "execute_result"
    }
   ],
   "source": [
    "count"
   ]
  },
  {
   "cell_type": "code",
   "execution_count": 40,
   "id": "d84c4538",
   "metadata": {
    "scrolled": false
   },
   "outputs": [
    {
     "data": {
      "text/plain": [
       "['Material', 'Consumable', 'Collectible', 'Coin', 'Favor', 'SecretStone']"
      ]
     },
     "execution_count": 40,
     "metadata": {},
     "output_type": "execute_result"
    }
   ],
   "source": [
    "categories"
   ]
  },
  {
   "cell_type": "code",
   "execution_count": 18,
   "id": "3c6fd688",
   "metadata": {},
   "outputs": [
    {
     "data": {
      "text/plain": [
       "{'Army',\n",
       " 'Art',\n",
       " 'Beauty',\n",
       " 'Bedding',\n",
       " 'BigMeal',\n",
       " 'BookItem',\n",
       " 'BookItemN',\n",
       " 'BookItemR',\n",
       " 'BookItemSR',\n",
       " 'BookItemSSR',\n",
       " 'Books',\n",
       " 'CDItem',\n",
       " 'CDItemN',\n",
       " 'CDItemR',\n",
       " 'CDItemSR',\n",
       " 'CDItemSSR',\n",
       " 'Cosmetics',\n",
       " 'CraftCommitment',\n",
       " 'CraftItem',\n",
       " 'CraftMaterial_FavorItemSR',\n",
       " 'CraftMaterial_FavorItemSSR',\n",
       " 'CraftMaterial_SecretStone',\n",
       " 'Curios',\n",
       " 'CuriousFellow',\n",
       " 'Delicious',\n",
       " 'Dessert',\n",
       " 'Detective',\n",
       " 'Doll',\n",
       " 'Electronic',\n",
       " 'ExpItem',\n",
       " 'ExpendableItem',\n",
       " 'Fashion',\n",
       " 'FavorItem',\n",
       " 'Food',\n",
       " 'Freakish',\n",
       " 'Functional',\n",
       " 'Game',\n",
       " 'Gift1',\n",
       " 'Gift2',\n",
       " 'Girlish',\n",
       " 'Horticulture',\n",
       " 'Household',\n",
       " 'Humanities',\n",
       " 'Jellyz',\n",
       " 'LoveStory',\n",
       " 'MaterialItem',\n",
       " 'MaterialItemN',\n",
       " 'MaterialItemR',\n",
       " 'MaterialItemSR',\n",
       " 'MaterialItemSSR',\n",
       " 'MomoFriends',\n",
       " 'Movie',\n",
       " 'Music',\n",
       " 'Mystery',\n",
       " 'Observational',\n",
       " 'PureLiterature',\n",
       " 'Reservation',\n",
       " 'Roman',\n",
       " 'SecretStone',\n",
       " 'ShiftingCraftCategory_BookItem',\n",
       " 'ShiftingCraftCategory_CDItem',\n",
       " 'ShiftingCraftCategory_CommonMaterial',\n",
       " 'ShiftingCraftCategory_FavorItem',\n",
       " 'ShiftingCraftCategory_Furniture',\n",
       " 'Simplicity',\n",
       " 'SkillBookUltimatePieace',\n",
       " 'Smart',\n",
       " 'Specialized',\n",
       " 'Sports',\n",
       " 'Swimsuit',\n",
       " 'Token_S14',\n",
       " 'Token_S6',\n",
       " 'Toy',\n",
       " 'ValkyrieBook',\n",
       " 'ValkyrieCD',\n",
       " 'WaterPlay'}"
      ]
     },
     "execution_count": 18,
     "metadata": {},
     "output_type": "execute_result"
    }
   ],
   "source": [
    "tags"
   ]
  },
  {
   "cell_type": "code",
   "execution_count": null,
   "id": "bab69aef",
   "metadata": {},
   "outputs": [],
   "source": [
    "\n",
    "# Define the numbers in a 3x3 grid\n",
    "numbers = [[1, 2, 3],\n",
    "           [4, 5, 6],\n",
    "           [7, 8, 9]]\n",
    "\n",
    "# Specify the CSV file path\n",
    "csv_file = \"grid.csv\"\n",
    "\n",
    "# Write the numbers to the CSV file\n",
    "with open(csv_file, 'w', newline='') as file:\n",
    "    writer = csv.writer(file)\n",
    "    writer.writerows(numbers)\n"
   ]
  }
 ],
 "metadata": {
  "kernelspec": {
   "display_name": "Python 3 (ipykernel)",
   "language": "python",
   "name": "python3"
  },
  "language_info": {
   "codemirror_mode": {
    "name": "ipython",
    "version": 3
   },
   "file_extension": ".py",
   "mimetype": "text/x-python",
   "name": "python",
   "nbconvert_exporter": "python",
   "pygments_lexer": "ipython3",
   "version": "3.10.9"
  }
 },
 "nbformat": 4,
 "nbformat_minor": 5
}
