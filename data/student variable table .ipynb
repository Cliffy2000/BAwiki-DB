{
 "cells": [
  {
   "cell_type": "code",
   "execution_count": 2,
   "id": "aa9e3b52",
   "metadata": {},
   "outputs": [],
   "source": [
    "import os\n",
    "import csv\n",
    "import json"
   ]
  },
  {
   "cell_type": "code",
   "execution_count": 3,
   "id": "0b132f4f",
   "metadata": {},
   "outputs": [],
   "source": [
    "def generateTextFile(values, headers):\n",
    "    result = {}\n",
    "    \n",
    "    for index in range(len(headers)):\n",
    "        if headers[index].startswith('<!--'):\n",
    "            continue\n",
    "        if '<!--' in headers[index]:\n",
    "            continue\n",
    "        \n",
    "        result[headers[index]] = values[index]\n",
    "    \n",
    "    if result['立绘2'] == '':\n",
    "        result['立绘2'] = \"Peroerror\"\n",
    "        result['差分'] = \"False\"\n",
    "    else:\n",
    "        result['差分'] = \"True\"\n",
    "    \n",
    "    with open(f\"./students/mwTextFiles/{result['回忆大厅'].split('Lobby')[0].capitalize()}.txt\", 'w', encoding='utf-8') as f:\n",
    "        f.write(\"{{StudentProfile\\n\")\n",
    "        for k in result.keys():\n",
    "            entry = result[k].replace(\"\\n\", \"\\n\")\n",
    "            f.write(f\"  |{k} = {entry}\\n\")\n",
    "        f.write(\"}}\")"
   ]
  },
  {
   "cell_type": "code",
   "execution_count": 4,
   "id": "47a39f2e",
   "metadata": {},
   "outputs": [],
   "source": [
    "def convertToTxt(csvFile):\n",
    "    with open(csvFile, 'r', encoding='utf-8') as f:\n",
    "        content = csv.reader(f)\n",
    "\n",
    "        rowNum = 0\n",
    "        for r in content:\n",
    "            if rowNum == 0:\n",
    "                headers = r\n",
    "            elif rowNum == 1:\n",
    "                pass\n",
    "            else:\n",
    "                generateTextFile(r, headers)\n",
    "\n",
    "            rowNum += 1"
   ]
  },
  {
   "cell_type": "code",
   "execution_count": 8,
   "id": "219febc5",
   "metadata": {},
   "outputs": [],
   "source": [
    "def convertToJson(csvFile):\n",
    "    with open(csvFile, 'r', encoding='utf-8') as f:\n",
    "        content = csv.reader(f)\n",
    "\n",
    "        data = {}\n",
    "        rowNum = 0\n",
    "        for r in content:\n",
    "            if rowNum == 0:\n",
    "                headers = r\n",
    "            elif rowNum == 1:\n",
    "                pass\n",
    "            else:\n",
    "                result = {}\n",
    "                for index in range(len(headers)):\n",
    "                    if headers[index].startswith('<!--'):\n",
    "                        continue\n",
    "                    result[headers[index]] = r[index]\n",
    "                data[result['名'].capitalize()] = result\n",
    "\n",
    "            rowNum += 1\n",
    "        \n",
    "        with open(\"./students/studentTablev0.json\", 'w', encoding='utf-8') as f2:\n",
    "            json.dump(data, f2, ensure_ascii=False)"
   ]
  },
  {
   "cell_type": "code",
   "execution_count": 5,
   "id": "4b37b13f",
   "metadata": {},
   "outputs": [],
   "source": [
    "convertToTxt(\"studentListv2.csv\")"
   ]
  },
  {
   "cell_type": "code",
   "execution_count": 47,
   "id": "5210e537",
   "metadata": {},
   "outputs": [],
   "source": [
    "pulls = {}\n",
    "with open(\"pull.csv\", 'r', encoding='utf-8') as f:\n",
    "    content = csv.reader(f)\n",
    "    for r in content:\n",
    "        if r[0] == '\\ufeffShiroko':\n",
    "            r[0] = \"Shiroko\"\n",
    "        name = r[0]\n",
    "        if '通常募集' in r[1]:\n",
    "            limited = False\n",
    "        else:\n",
    "            limited = True\n",
    "        pulls[name] = limited"
   ]
  },
  {
   "cell_type": "code",
   "execution_count": 48,
   "id": "9816468e",
   "metadata": {
    "scrolled": true
   },
   "outputs": [
    {
     "data": {
      "text/plain": [
       "False"
      ]
     },
     "execution_count": 48,
     "metadata": {},
     "output_type": "execute_result"
    }
   ],
   "source": [
    "pulls['Shiroko']"
   ]
  },
  {
   "cell_type": "code",
   "execution_count": 49,
   "id": "1f44172b",
   "metadata": {},
   "outputs": [],
   "source": [
    "for student in d.keys():\n",
    "    d[student]['limited'] = pulls[student]"
   ]
  },
  {
   "cell_type": "code",
   "execution_count": null,
   "id": "729082bf",
   "metadata": {},
   "outputs": [],
   "source": []
  }
 ],
 "metadata": {
  "kernelspec": {
   "display_name": "Python 3 (ipykernel)",
   "language": "python",
   "name": "python3"
  },
  "language_info": {
   "codemirror_mode": {
    "name": "ipython",
    "version": 3
   },
   "file_extension": ".py",
   "mimetype": "text/x-python",
   "name": "python",
   "nbconvert_exporter": "python",
   "pygments_lexer": "ipython3",
   "version": "3.10.9"
  }
 },
 "nbformat": 4,
 "nbformat_minor": 5
}
